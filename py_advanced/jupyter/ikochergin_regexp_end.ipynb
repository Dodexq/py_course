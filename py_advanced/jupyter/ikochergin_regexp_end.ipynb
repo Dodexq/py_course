{
 "cells": [
  {
   "cell_type": "markdown",
   "metadata": {},
   "source": [
    "# Регулярные выражения -- продолжение\n",
    "\n",
    "официальная документация модуля [re](https://docs.python.org/3/library/re.html)\n",
    "\n",
    "Один из многих сайтов для отладки и демонстрации регулярных выражений <https://regex101.com/r/jTIHEj/1>"
   ]
  },
  {
   "cell_type": "markdown",
   "metadata": {},
   "source": [
    "* * *\n",
    "\n",
    "## С примерами  можно поиграться через визуальный интерфейс сайта regex101.com\n",
    "\n",
    "\n",
    "<https://regex101.com/r/Gx7Dcz/1> конец строки\n",
    "\n",
    "<https://regex101.com/r/rzd9XB/1> слово целиком\n",
    "\n",
    "<https://regex101.com/r/jUrQBO/1> классы символов\n",
    "\n",
    "\n",
    "<https://regex101.com/r/EtwAKb/1> цепочка гласных\n",
    "\n",
    "<https://regex101.com/r/FbrUSV/1> звездочка\n",
    "\n",
    "<https://regex101.com/r/qLfMh4/1>\n",
    "\n",
    "<https://regex101.com/r/eX1dSY/1>  число после необязательных пробелов * +\n",
    "\n",
    "<https://regex101.com/r/ATNMJG/1> альтернатива\n",
    "\n",
    "\n",
    "<https://regex101.com/r/p9IkeS/1> greedy \\* \n",
    "\n",
    "<https://regex101.com/r/BgeiQ7/1>\n",
    "\n",
    "<https://regex101.com/r/V5o3Ei/1> non-greedy quantifiers \\*? \n",
    "\n",
    "<https://regex101.com/r/RDCq0x/1>\n",
    "\n",
    "\n",
    "#### группы \n",
    "\n",
    "<https://regex101.com/r/QIrvlI/1> \n",
    "<https://regex101.com/r/56hy6b/1>  \n",
    "\n",
    "пример  применения нежадных квантификаторов `*?` и групп для подготовки файла к импорту. В файле проблемма: символ разделитель полей встречается в данных, нужно поле  в котором есть такая проблема окружить так: \"Korea, Rep\", KOR\n",
    "\n",
    "Сценарий 1. В первом поле текстового csv-файда название страны, содержащее запятую, являющуюся разделителем в этом файле. Нужно заменой окружить это поле в двойные кавычки.\n",
    "\n",
    "<https://regex101.com/r/jtL2Av/1>\n",
    "\n",
    "\n",
    "Сценарий 2.  В первом поле текстового csv-файда название страны, не обязательно  содержащее запятую или несколько запятых, являющуюся разделителем в этом файле. Следующий столбец -- это код страны, состоящий из 3 больших букв. Нужно заменой окружить первое поле с названием страны  в двойные кавычки.\n",
    "<https://regex101.com/r/JfpXXA/1>\n",
    "\n",
    "\n",
    "##### look ahead/behind \n",
    "\n",
    "(когда нужно взять при помощи шаблона текст рядом с другой строкой, но не включать эту строку в результат поиска/ \n",
    "\n",
    "<https://regex101.com/r/a2S3Z3/1> \n",
    "\n",
    "\n",
    "https://regex101.com/r/9oiWUZ/1"
   ]
  },
  {
   "cell_type": "code",
   "execution_count": 66,
   "metadata": {},
   "outputs": [
    {
     "name": "stdout",
     "output_type": "stream",
     "text": [
      "50 Cactus Freeway, Phoenix, AZ\n",
      "777 5th Ave, New York, NY\n",
      "50 Market Blvd, Oakland, CA\n",
      "     505 Nord Freeway, Phoenix, AZ\n",
      "57 New St., Oakland, CA\n",
      "\n",
      "========================================\n",
      "xxx Cactus Freeway, Phoenix, AZ\n",
      "xxx 5th Ave, New York, NY\n",
      "xxx Market Blvd, Oakland, CA\n",
      "xxx Nord Freeway, Phoenix, AZ\n",
      "xxx New St., Oakland, CA\n",
      "\n"
     ]
    }
   ],
   "source": [
    "import re\n",
    "\n",
    "regex = r\"^ *\\d+\"\n",
    "\n",
    "test_str = (\"50 Cactus Freeway, Phoenix, AZ\\n\"\n",
    "\t\"777 5th Ave, New York, NY\\n\"\n",
    "\t\"50 Market Blvd, Oakland, CA\\n\"\n",
    "\t\"     505 Nord Freeway, Phoenix, AZ\\n\"\n",
    "\t\"57 New St., Oakland, CA\\n\")\n",
    "print(test_str)\n",
    "\n",
    "print(r'=='*20)\n",
    "\n",
    "subst = \"xxx\"\n",
    "\n",
    "# You can manually specify the number of replacements by changing the 4th argument\n",
    "result = re.sub(regex, subst, test_str, 0, re.MULTILINE | re.IGNORECASE|re.UNICODE)\n",
    "\n",
    "if result:\n",
    "    print (result)"
   ]
  },
  {
   "cell_type": "code",
   "execution_count": 69,
   "metadata": {},
   "outputs": [
    {
     "name": "stdout",
     "output_type": "stream",
     "text": [
      "50 Cactus Freeway, Phoenix, AZ\n",
      "777 5th Ave, New York, NY\n",
      "50 Market Blvd, Oakland, CA\n",
      "     505 Nord Freeway, Phoenix, AZ\n",
      "57 New St., Oakland, CA\n",
      "\n",
      "========================================\n",
      "xxx Cactus Freeway, Phoenix, AZ\n",
      "xxx 5th Ave, New York, NY\n",
      "xxx Market Blvd, Oakland, CA\n",
      "xxx Nord Freeway, Phoenix, AZ\n",
      "xxx New St., Oakland, CA\n",
      "\n"
     ]
    }
   ],
   "source": [
    "import re\n",
    "\n",
    "regex = re.compile( r\"^ *\\d+\",re.MULTILINE | re.IGNORECASE|re.UNICODE)\n",
    "\n",
    "\n",
    "\n",
    "test_str = (\"50 Cactus Freeway, Phoenix, AZ\\n\"\n",
    "\t\"777 5th Ave, New York, NY\\n\"\n",
    "\t\"50 Market Blvd, Oakland, CA\\n\"\n",
    "\t\"     505 Nord Freeway, Phoenix, AZ\\n\"\n",
    "\t\"57 New St., Oakland, CA\\n\")\n",
    "print(test_str)\n",
    "\n",
    "print(r'=='*20)\n",
    "\n",
    "subst = \"xxx\"\n",
    "\n",
    "# You can manually specify the number of replacements by changing the 4th argument\n",
    "result = re.sub(regex, subst, test_str)\n",
    "\n",
    "if result:\n",
    "    print (result)"
   ]
  },
  {
   "cell_type": "code",
   "execution_count": 70,
   "metadata": {},
   "outputs": [
    {
     "name": "stdout",
     "output_type": "stream",
     "text": [
      "50 Cactus Freeway, Phoenix, AZ\n",
      "777 5th Ave, New York, NY\n",
      "50 Market Blvd, Oakland, CA\n",
      "     505 Nord Freeway, Phoenix, AZ\n",
      "57 New St., Oakland, CA\n",
      "\n",
      "========================================\n",
      "xxx Cactus Freeway, Phoenix, AZ\n",
      "xxx 5th Ave, New York, NY\n",
      "xxx Market Blvd, Oakland, CA\n",
      "xxx Nord Freeway, Phoenix, AZ\n",
      "xxx New St., Oakland, CA\n",
      "\n"
     ]
    }
   ],
   "source": [
    "import re\n",
    "\n",
    "regex = re.compile( r\"\"\"^     # начало\n",
    "                    \\ *       # пустая строка или пробелы\n",
    "                    \\d+       # цепочка цифр\n",
    "                    \"\"\",re.MULTILINE | re.IGNORECASE|re.UNICODE|re.VERBOSE)\n",
    "\n",
    "\n",
    "\n",
    "test_str = (\"50 Cactus Freeway, Phoenix, AZ\\n\"\n",
    "\t\"777 5th Ave, New York, NY\\n\"\n",
    "\t\"50 Market Blvd, Oakland, CA\\n\"\n",
    "\t\"     505 Nord Freeway, Phoenix, AZ\\n\"\n",
    "\t\"57 New St., Oakland, CA\\n\")\n",
    "print(test_str)\n",
    "\n",
    "print(r'=='*20)\n",
    "\n",
    "subst = \"xxx\"\n",
    "\n",
    "# You can manually specify the number of replacements by changing the 4th argument\n",
    "result = re.sub(regex, subst, test_str)\n",
    "\n",
    "if result:\n",
    "    print (result)"
   ]
  },
  {
   "cell_type": "code",
   "execution_count": 11,
   "metadata": {},
   "outputs": [
    {
     "name": "stdout",
     "output_type": "stream",
     "text": [
      "50 Cactus Freeway, Phoenix, AZ\n",
      "777 5th Ave, New York, NY\n",
      "50 Market Blvd, Oakland, CA\n",
      "505 Nord Freeway, Phoenix, AZ\n",
      "57 New St., Oakland, CA\n",
      "========================================\n",
      "Cactus Freeway, Phoenix, AZ\n",
      "5th Ave, New York, NY\n",
      "Market Blvd, Oakland, CA\n",
      "Nord Freeway, Phoenix, AZ\n",
      "New St., Oakland, CA\n"
     ]
    }
   ],
   "source": [
    "import re\n",
    "\n",
    "regex = r\"^\\d+\\s+\""
   ]
  },
  {
   "cell_type": "code",
   "execution_count": 36,
   "metadata": {},
   "outputs": [
    {
     "name": "stdout",
     "output_type": "stream",
     "text": [
      "<class 're.Pattern'>\n",
      "50 Cactus Freeway, Phoenix, AZ\n",
      "777 5th Ave, New York, NY\n",
      "50 Market Blvd, Oakland, CA\n",
      "505 Nord Freeway, Phoenix, AZ\n",
      "57 New St., Oakland, CA\n",
      "========================================\n",
      "Cactus Freeway, Phoenix, AZ\n",
      "5th Ave, New York, NY\n",
      "Market Blvd, Oakland, CA\n",
      "Nord Freeway, Phoenix, AZ\n",
      "New St., Oakland, CA\n"
     ]
    }
   ],
   "source": [
    "import re\n",
    "## re.VERBOSE == re.X   ## игнорировать пробелы кроме \\пробел\n",
    "                        ## игнорировать переходы на новую строку \n",
    "                        ## игнорироватькоментарии\n",
    "\n",
    "# regex = re.compile(r\"^  \\d+   \\s+\",re.MULTILINE |re.UNICODE | re.IGNORECASE|re.VERBOSE)\n",
    "regex = re.compile(r\"\"\"^       # якорь начала строки \n",
    "                        \\d+    # любая цифра, повторение 1 или более\n",
    "                        \\s+    #                \"\"\",\n",
    "                   re.M |re.U | re.I|re.X)\n",
    "\n",
    "\n",
    "\n",
    "print(type(regex))\n",
    "\n",
    "test_str = (\"50 Cactus Freeway, Phoenix, AZ\\n\"\n",
    "\t\"777 5th Ave, New York, NY\\n\"\n",
    "\t\"50 Market Blvd, Oakland, CA\\n\"\n",
    "\t\"505 Nord Freeway, Phoenix, AZ\\n\"\n",
    "\t\"57 New St., Oakland, CA\")\n",
    "\n",
    "print(test_str)\n",
    "\n",
    "print('='*40)\n",
    "\n",
    "\n",
    "subst = \"\"\n",
    "\n",
    "# You can manually specify the number of replacements by changing the 4th argument\n",
    "result = re.sub(regex, subst, test_str )\n",
    "\n",
    "if result:\n",
    "    print (result)"
   ]
  },
  {
   "cell_type": "code",
   "execution_count": 72,
   "metadata": {},
   "outputs": [
    {
     "name": "stdout",
     "output_type": "stream",
     "text": [
      "Match 1 was found at 0-30: 50 Cactus Freeway, Phoenix, AZ\n",
      "Group 1 found at 0-2: 50\n",
      "Group 2 found at 3-17: Cactus Freeway\n",
      "Group 3 found at 19-26: Phoenix\n",
      "Group 4 found at 28-30: AZ\n",
      "Match 2 was found at 31-56: 777 5th Ave, New York, NY\n",
      "Group 1 found at 31-34: 777\n",
      "Group 2 found at 35-42: 5th Ave\n",
      "Group 3 found at 44-52: New York\n",
      "Group 4 found at 54-56: NY\n",
      "Match 3 was found at 57-84: 50 Market Blvd, Oakland, CA\n",
      "Group 1 found at 57-59: 50\n",
      "Group 2 found at 60-71: Market Blvd\n",
      "Group 3 found at 73-80: Oakland\n",
      "Group 4 found at 82-84: CA\n",
      "Match 4 was found at 85-119:      505 Nord Freeway, Phoenix, AZ\n",
      "Group 1 found at 90-93: 505\n",
      "Group 2 found at 94-106: Nord Freeway\n",
      "Group 3 found at 108-115: Phoenix\n",
      "Group 4 found at 117-119: AZ\n",
      "Match 5 was found at 120-143: 57 New St., Oakland, CA\n",
      "Group 1 found at 120-122: 57\n",
      "Group 2 found at 123-130: New St.\n",
      "Group 3 found at 132-139: Oakland\n",
      "Group 4 found at 141-143: CA\n"
     ]
    }
   ],
   "source": [
    "import re\n",
    "\n",
    "regex = r\"^ *(\\d+) (.*?), *(.*), *([A-Z]{2})$\"\n",
    "\n",
    "test_str = (\"50 Cactus Freeway, Phoenix, AZ\\n\"\n",
    "\t\"777 5th Ave, New York, NY\\n\"\n",
    "\t\"50 Market Blvd, Oakland, CA\\n\"\n",
    "\t\"     505 Nord Freeway, Phoenix, AZ\\n\"\n",
    "\t\"57 New St., Oakland, CA\\n\"\n",
    "\t\"eeeeeeeee\\n\"\n",
    "\t\"Папа у Васи силен в математике\\n\"\n",
    "\t\"Илюша\\n\"\n",
    "\t\"Илюшка\\n\"\n",
    "\t\"Илюшечка\\n\"\n",
    "\t\"ИлюшНННа\\n\"\n",
    "\t\"c:/Program Files/Microsoft/Microsort Office/winword.exe\\n\")\n",
    "\n",
    "matches = re.finditer(regex, test_str, re.MULTILINE | re.IGNORECASE)\n",
    "\n",
    "for matchNum, match in enumerate(matches, start=1):\n",
    "    \n",
    "    print (\"Match {matchNum} was found at {start}-{end}: {match}\".format(matchNum = matchNum, start = match.start(), end = match.end(), match = match.group()))\n",
    "    \n",
    "    for groupNum in range(0, len(match.groups())):\n",
    "        groupNum = groupNum + 1\n",
    "        \n",
    "        print (\"Group {groupNum} found at {start}-{end}: {group}\".format(groupNum = groupNum, start = match.start(groupNum), end = match.end(groupNum), group = match.group(groupNum)))\n"
   ]
  },
  {
   "cell_type": "code",
   "execution_count": 85,
   "metadata": {},
   "outputs": [
    {
     "name": "stdout",
     "output_type": "stream",
     "text": [
      "AZ Phoenix\n",
      "NY New York\n",
      "CA Oakland\n",
      "AZ Phoenix\n",
      "CA Oakland\n"
     ]
    }
   ],
   "source": [
    "import re\n",
    "\n",
    "regex = r\"^ *(\\d+) (.*?), *(.*), *([A-Z]{2})$\"\n",
    "\n",
    "test_str = (\"50 Cactus Freeway, Phoenix, AZ\\n\"\n",
    "\t\"777 5th Ave, New York, NY\\n\"\n",
    "\t\"50 Market Blvd, Oakland, CA\\n\"\n",
    "\t\"     505 Nord Freeway, Phoenix, AZ\\n\"\n",
    "\t\"57 New St., Oakland, CA\\n\"\n",
    "\t\"eeeeeeeee\\n\"\n",
    "\t\"Папа у Васи силен в математике\\n\"\n",
    "\t\"Илюша\\n\"\n",
    "\t\"Илюшка\\n\"\n",
    "\t\"Илюшечка\\n\"\n",
    "\t\"ИлюшНННа\\n\"\n",
    "\t\"c:/Program Files/Microsoft/Microsort Office/winword.exe\\n\")\n",
    "\n",
    "\n",
    "for line in test_str.splitlines():\n",
    "    m_o= re.match(regex,line,re.I|re.M)\n",
    "    if m_o :\n",
    "        print(m_o[4],m_o[3])\n",
    "    "
   ]
  },
  {
   "cell_type": "code",
   "execution_count": 29,
   "metadata": {},
   "outputs": [
    {
     "name": "stdout",
     "output_type": "stream",
     "text": [
      "<class 're.Pattern'>\n",
      "50 Cactus Freeway, Phoenix, AZ\n",
      "777 5th Ave, New York, NY\n",
      "50 Market Blvd, Oakland, CA\n",
      "505 Nord Freeway, Phoenix, AZ\n",
      "57 New St., Oakland, CA\n",
      "========================================\n",
      "Cactus Freeway, Phoenix, AZ\n",
      "5th Ave, New York, NY\n",
      "Market Blvd, Oakland, CA\n",
      "Nord Freeway, Phoenix, AZ\n",
      "New St., Oakland, CA\n"
     ]
    }
   ],
   "source": [
    "import re\n",
    "\n",
    "regex = re.compile( (r\"^  \" # начало\n",
    "                     r\"\\d+ \" # цепочка цифр 1 или более длинной\n",
    "                     r\"\\s+\"  # цепочка пробельных символов 1 или более длинной\n",
    "                     ),   \n",
    "                     re.MULTILINE |re.UNICODE | re.IGNORECASE|re.VERBOSE)\n",
    "\n",
    "print(type(regex))\n",
    "\n",
    "test_str = (\"50 Cactus Freeway, Phoenix, AZ\\n\"\n",
    "\t\"777 5th Ave, New York, NY\\n\"\n",
    "\t\"50 Market Blvd, Oakland, CA\\n\"\n",
    "\t\"505 Nord Freeway, Phoenix, AZ\\n\"\n",
    "\t\"57 New St., Oakland, CA\")\n",
    "\n",
    "print(test_str)\n",
    "\n",
    "print('='*40)\n",
    "\n",
    "\n",
    "subst = \"\"\n",
    "\n",
    "# You can manually specify the number of replacements by changing the 4th argument\n",
    "result = re.sub(regex, subst, test_str )\n",
    "\n",
    "if result:\n",
    "    print (result)"
   ]
  },
  {
   "cell_type": "markdown",
   "metadata": {
    "jp-MarkdownHeadingCollapsed": true,
    "tags": []
   },
   "source": [
    "* * *\n",
    "\n",
    "### Примеры применения регулярных выражений в pandas"
   ]
  },
  {
   "cell_type": "code",
   "execution_count": null,
   "metadata": {},
   "outputs": [],
   "source": []
  },
  {
   "cell_type": "code",
   "execution_count": 1,
   "metadata": {
    "scrolled": true
   },
   "outputs": [
    {
     "name": "stdout",
     "output_type": "stream",
     "text": [
      "Writing custdata.txt\n"
     ]
    }
   ],
   "source": [
    "%%writefile custdata.txt\n",
    "cust_id; name; address; phone; cust_type\n",
    "100; The Camera Store; 300 Broad St., New York, NY; 2125552222; Retail\n",
    "101; Wilson Security; 50 Cactus Freeway, Phoenix, AZ; 6095550000; End User\n",
    "102; City Copy Shop; 777 5th Ave, New York, NY; 2125551111; End User\n",
    "103; Computer Planet; 100 Boylston St., Boston, MA; 6175553333; Retail\n",
    "104; Hi Tech Supply; 50 Market Blvd, Oakland, CA; 5103334444; Distributo"
   ]
  },
  {
   "cell_type": "code",
   "execution_count": 2,
   "metadata": {},
   "outputs": [
    {
     "name": "stdout",
     "output_type": "stream",
     "text": [
      "Writing addresses.txt\n"
     ]
    }
   ],
   "source": [
    "%%writefile addresses.txt\n",
    "300 Broad St., New York, NY\n",
    "50 Cactus Freeway, Phoenix, AZ\n",
    "777 5th Ave, New York, NY\n",
    "100 Boylston St., Boston, MA\n",
    "50 Market Blvd, Oakland, CA\n",
    "505 Nord Freeway, Phoenix, AZ\n",
    "57 New St., Oakland, CA\n",
    "731 Fondren Drv, Houston, TX\n",
    "638 Voss St., Houston, TX\n",
    "291 Berry St., Bellaire, TX\n",
    "975 Fire Oak Ave, Humble, TX\n",
    "980 Dallas St., Houston, TX\n",
    "450 Stone Ave, Houston, TX"
   ]
  },
  {
   "cell_type": "code",
   "execution_count": 37,
   "metadata": {},
   "outputs": [],
   "source": [
    "import pandas as pd"
   ]
  },
  {
   "cell_type": "code",
   "execution_count": 41,
   "metadata": {},
   "outputs": [
    {
     "data": {
      "text/plain": [
       "Index(['cust_id', ' name', ' address', ' phone', ' cust_type'], dtype='object')"
      ]
     },
     "execution_count": 41,
     "metadata": {},
     "output_type": "execute_result"
    }
   ],
   "source": [
    "cust0=pd.read_csv(\"custdata.txt\", sep=';',header=0 )\n",
    "cust0.keys() # В имена полей \"втесались\" пробелы"
   ]
  },
  {
   "cell_type": "markdown",
   "metadata": {},
   "source": [
    "* * *\n",
    "\n",
    "Укажем `sep=';\\s*'`, чтобы разделение было по `;` с необязательной цепочкой пробелов `\\s*`"
   ]
  },
  {
   "cell_type": "code",
   "execution_count": 42,
   "metadata": {},
   "outputs": [],
   "source": [
    "cust=pd.read_csv(\"custdata.txt\", sep=';\\s*',engine=\"python\",header=0 )"
   ]
  },
  {
   "cell_type": "code",
   "execution_count": 40,
   "metadata": {},
   "outputs": [
    {
     "data": {
      "text/plain": [
       "Index(['cust_id', 'name', 'address', 'phone', 'cust_type'], dtype='object')"
      ]
     },
     "execution_count": 40,
     "metadata": {},
     "output_type": "execute_result"
    }
   ],
   "source": [
    "cust.keys()"
   ]
  },
  {
   "cell_type": "code",
   "execution_count": 10,
   "metadata": {},
   "outputs": [
    {
     "data": {
      "text/plain": [
       "0    The Camera Store\n",
       "1     Wilson Security\n",
       "2      City Copy Shop\n",
       "3     Computer Planet\n",
       "4      Hi Tech Supply\n",
       "Name: name, dtype: object"
      ]
     },
     "execution_count": 10,
     "metadata": {},
     "output_type": "execute_result"
    }
   ],
   "source": [
    "cust[\"name\"]"
   ]
  },
  {
   "cell_type": "code",
   "execution_count": 11,
   "metadata": {},
   "outputs": [
    {
     "data": {
      "text/plain": [
       "0     True\n",
       "1    False\n",
       "2     True\n",
       "3    False\n",
       "4    False\n",
       "Name: name, dtype: bool"
      ]
     },
     "execution_count": 11,
     "metadata": {},
     "output_type": "execute_result"
    }
   ],
   "source": [
    "bool_index=cust[\"name\"].str.contains('Store|Shop') # re  альтернатива |\n",
    "bool_index"
   ]
  },
  {
   "cell_type": "code",
   "execution_count": 12,
   "metadata": {
    "scrolled": true
   },
   "outputs": [
    {
     "data": {
      "text/html": [
       "<div>\n",
       "<style scoped>\n",
       "    .dataframe tbody tr th:only-of-type {\n",
       "        vertical-align: middle;\n",
       "    }\n",
       "\n",
       "    .dataframe tbody tr th {\n",
       "        vertical-align: top;\n",
       "    }\n",
       "\n",
       "    .dataframe thead th {\n",
       "        text-align: right;\n",
       "    }\n",
       "</style>\n",
       "<table border=\"1\" class=\"dataframe\">\n",
       "  <thead>\n",
       "    <tr style=\"text-align: right;\">\n",
       "      <th></th>\n",
       "      <th>name</th>\n",
       "      <th>cust_type</th>\n",
       "    </tr>\n",
       "  </thead>\n",
       "  <tbody>\n",
       "    <tr>\n",
       "      <th>0</th>\n",
       "      <td>The Camera Store</td>\n",
       "      <td>Retail</td>\n",
       "    </tr>\n",
       "    <tr>\n",
       "      <th>2</th>\n",
       "      <td>City Copy Shop</td>\n",
       "      <td>End User</td>\n",
       "    </tr>\n",
       "  </tbody>\n",
       "</table>\n",
       "</div>"
      ],
      "text/plain": [
       "               name cust_type\n",
       "0  The Camera Store    Retail\n",
       "2    City Copy Shop  End User"
      ]
     },
     "execution_count": 12,
     "metadata": {},
     "output_type": "execute_result"
    }
   ],
   "source": [
    "cust.loc[bool_index, [\"name\", \"cust_type\"]]"
   ]
  },
  {
   "cell_type": "markdown",
   "metadata": {},
   "source": [
    "* * *\n",
    "\n",
    "Заменяем номера домов  в начале адресов на строку `xxx`"
   ]
  },
  {
   "cell_type": "code",
   "execution_count": 44,
   "metadata": {
    "scrolled": true
   },
   "outputs": [
    {
     "data": {
      "text/plain": [
       "0        xxx Broad St., New York, NY\n",
       "1    xxx Cactus Freeway, Phoenix, AZ\n",
       "2          xxx 5th Ave, New York, NY\n",
       "3       xxx Boylston St., Boston, MA\n",
       "4       xxx Market Blvd, Oakland, CA\n",
       "Name: address, dtype: object"
      ]
     },
     "execution_count": 44,
     "metadata": {},
     "output_type": "execute_result"
    }
   ],
   "source": [
    "cust.address.str.replace(r\"^\\d+\",\"xxx\")"
   ]
  },
  {
   "cell_type": "code",
   "execution_count": 45,
   "metadata": {
    "scrolled": true
   },
   "outputs": [
    {
     "data": {
      "text/plain": [
       "0        Broad St. dom 300 New York, NY\n",
       "1     Cactus Freeway dom 50 Phoenix, AZ\n",
       "2          5th Ave dom 777 New York, NY\n",
       "3       Boylston St. dom 100 Boston, MA\n",
       "4        Market Blvd dom 50 Oakland, CA\n",
       "Name: address, dtype: object"
      ]
     },
     "execution_count": 45,
     "metadata": {},
     "output_type": "execute_result"
    }
   ],
   "source": [
    "cust.address.str.replace(r\"^(\\d+)(.*?),\" , r\"\\2 dom \\1\") # re groups and \\1 \\2"
   ]
  },
  {
   "cell_type": "markdown",
   "metadata": {},
   "source": [
    "## Использование модуля re"
   ]
  },
  {
   "cell_type": "code",
   "execution_count": 40,
   "metadata": {},
   "outputs": [],
   "source": [
    "import re\n",
    "## import regex"
   ]
  },
  {
   "cell_type": "markdown",
   "metadata": {},
   "source": [
    "Основные методы в модуле `re`\n",
    "\n",
    "```python\n",
    "re.match(pattern, text)  # match -- сопоставлять, подходить\n",
    "    # --> None или match-object. Сопоставляет pattern с началом строки text\n",
    "re.search(pattern, text) \n",
    "    # --> None или match-object. Сопоставляет pattern с любой частью строки text\n",
    "re.findall(pattern, text)\n",
    "    # --> список всех найденых подстрок \n",
    "re.split(pattern, text) \n",
    "    # --> список строк, на которые разбивается текст разделителями, подходищими под шаблон pattern\n",
    "re.sub(pattern, replacement,text) # sub - substitute (подставлять, заменять)\n",
    "    # --> новая версия text, где подстроки, соответствующие pattern заменены на replacement \n",
    "```"
   ]
  },
  {
   "cell_type": "code",
   "execution_count": 44,
   "metadata": {},
   "outputs": [],
   "source": [
    "spisok_str=\"1345,23434,2343,  3434,\\t3434\""
   ]
  },
  {
   "cell_type": "code",
   "execution_count": 45,
   "metadata": {},
   "outputs": [
    {
     "data": {
      "text/plain": [
       "['1345', '23434', '2343', '  3434', '\\t3434']"
      ]
     },
     "execution_count": 45,
     "metadata": {},
     "output_type": "execute_result"
    }
   ],
   "source": [
    "spisok_str.split(\",\")"
   ]
  },
  {
   "cell_type": "code",
   "execution_count": 47,
   "metadata": {},
   "outputs": [
    {
     "data": {
      "text/plain": [
       "['1345', '23434', '2343', '3434', '3434']"
      ]
     },
     "execution_count": 47,
     "metadata": {},
     "output_type": "execute_result"
    }
   ],
   "source": [
    "re.split(r',\\s*',spisok_str)"
   ]
  },
  {
   "cell_type": "code",
   "execution_count": 48,
   "metadata": {},
   "outputs": [
    {
     "data": {
      "text/plain": [
       "['1345', '23434', '2343', '3434', '3434']"
      ]
     },
     "execution_count": 48,
     "metadata": {},
     "output_type": "execute_result"
    }
   ],
   "source": [
    "spisok_str=\"1345,23434;2343,  3434,\\t3434\"\n",
    "re.split(r'[,;]\\s*',spisok_str)"
   ]
  },
  {
   "cell_type": "code",
   "execution_count": 50,
   "metadata": {},
   "outputs": [
    {
     "data": {
      "text/plain": [
       "['1345', '23434', '2343', '3434', '3434']"
      ]
     },
     "execution_count": 50,
     "metadata": {},
     "output_type": "execute_result"
    }
   ],
   "source": [
    "re.findall(r'\\d+',spisok_str)"
   ]
  },
  {
   "cell_type": "code",
   "execution_count": 51,
   "metadata": {},
   "outputs": [
    {
     "data": {
      "text/plain": [
       "['134.5', '23434', '23.43', '3434', '3434']"
      ]
     },
     "execution_count": 51,
     "metadata": {},
     "output_type": "execute_result"
    }
   ],
   "source": [
    "spisok_str=\"134.5,23434;23.43,  3434,\\t3434\"\n",
    "re.findall(r'[.\\d]+',spisok_str)"
   ]
  },
  {
   "cell_type": "code",
   "execution_count": 57,
   "metadata": {},
   "outputs": [],
   "source": [
    "answer='Yes'\n",
    "m=re.match('(yes|y|д|да)$',answer,re.IGNORECASE)"
   ]
  },
  {
   "cell_type": "code",
   "execution_count": 58,
   "metadata": {},
   "outputs": [
    {
     "name": "stdout",
     "output_type": "stream",
     "text": [
      "пользователь согласен\n",
      "<re.Match object; span=(0, 3), match='Yes'>\n"
     ]
    }
   ],
   "source": [
    "if m :\n",
    "    print(\"пользователь согласен\")\n",
    "    print(m)\n",
    "else:\n",
    "    print(type(m))\n",
    "    print(answer)"
   ]
  },
  {
   "cell_type": "markdown",
   "metadata": {},
   "source": [
    "### Пример. Поиск имен в модуле по шаблону\n",
    "\n",
    "Часто в модуле много функций и констант, а у объекта много методов. И тогда  в длинном списке, выдаваемом `dir(obj)` мы часто хотим найти имя, которое помним неточно. Регулярные выражения нам в помощь \n",
    "\n",
    "Найдем имена в которых есть строка `_compile` сначала в начале строки (`match()`), а потом а в любом месте строки (`search()`)"
   ]
  },
  {
   "cell_type": "code",
   "execution_count": 16,
   "metadata": {},
   "outputs": [],
   "source": [
    "import re\n",
    "re_ids = dir(re) # все имена, определенные в модуле re"
   ]
  },
  {
   "cell_type": "code",
   "execution_count": 17,
   "metadata": {},
   "outputs": [
    {
     "name": "stdout",
     "output_type": "stream",
     "text": [
      "A ASCII DEBUG DOTALL I IGNORECASE L LOCALE M MULTILINE Match Pattern RegexFlag S Scanner T TEMPLATE U UNICODE VERBOSE X _MAXCACHE __all__ __builtins__ __cached__ __doc__ __file__ __loader__ __name__ __package__ __spec__ __version__ _cache _compile _compile_repl _expand _locale _pickle _special_chars_map _subx compile copyreg enum error escape findall finditer fullmatch functools match purge search split sre_compile sre_parse sub subn template\n"
     ]
    }
   ],
   "source": [
    "print(*re_ids)"
   ]
  },
  {
   "cell_type": "code",
   "execution_count": 18,
   "metadata": {},
   "outputs": [],
   "source": [
    "match_obj1 = re.match(\"A\", 'ASCII')\n",
    "match_obj2 = re.match(\"A\", 'LOCALE')\n",
    "match_obj3 = re.search(\"A\", 'LOCALE')"
   ]
  },
  {
   "cell_type": "code",
   "execution_count": 19,
   "metadata": {},
   "outputs": [
    {
     "name": "stdout",
     "output_type": "stream",
     "text": [
      "<re.Match object; span=(0, 1), match='A'>\n",
      "None\n",
      "<re.Match object; span=(3, 4), match='A'>\n"
     ]
    }
   ],
   "source": [
    "print(match_obj1, match_obj2, match_obj3,sep='\\n')"
   ]
  },
  {
   "cell_type": "code",
   "execution_count": 20,
   "metadata": {},
   "outputs": [
    {
     "name": "stdout",
     "output_type": "stream",
     "text": [
      "_compile\n",
      "_compile_repl\n"
     ]
    }
   ],
   "source": [
    "for s in re_ids:\n",
    "    if re.match(pattern=\"_compile\",string=s):\n",
    "        print(s)"
   ]
  },
  {
   "cell_type": "code",
   "execution_count": 23,
   "metadata": {},
   "outputs": [
    {
     "name": "stdout",
     "output_type": "stream",
     "text": [
      "_compile\n",
      "_compile_repl\n",
      "sre_compile\n"
     ]
    }
   ],
   "source": [
    "for s in re_ids:\n",
    "    if re.search(pattern=\"_compile\",string=s):\n",
    "        print(s)"
   ]
  },
  {
   "cell_type": "markdown",
   "metadata": {},
   "source": [
    "то же самое без цикла, при помощи списковых включений"
   ]
  },
  {
   "cell_type": "code",
   "execution_count": 21,
   "metadata": {},
   "outputs": [
    {
     "data": {
      "text/plain": [
       "['_compile', '_compile_repl']"
      ]
     },
     "execution_count": 21,
     "metadata": {},
     "output_type": "execute_result"
    }
   ],
   "source": [
    "[ s for s in re_ids if re.match(pattern=\"_compile\",string=s) ]"
   ]
  },
  {
   "cell_type": "code",
   "execution_count": 22,
   "metadata": {},
   "outputs": [
    {
     "data": {
      "text/plain": [
       "['_compile', '_compile_repl', 'sre_compile']"
      ]
     },
     "execution_count": 22,
     "metadata": {},
     "output_type": "execute_result"
    }
   ],
   "source": [
    "[ s for s in re_ids if re.search(pattern=\"_compile\",string=s) ]"
   ]
  },
  {
   "cell_type": "code",
   "execution_count": 24,
   "metadata": {},
   "outputs": [],
   "source": [
    " ssss= \"one,two;three.four.five six\""
   ]
  },
  {
   "cell_type": "markdown",
   "metadata": {},
   "source": [
    "обычная строковая фукнция `split()`  не может использовать продвинутые шаблоны, а ищет конкретные символы"
   ]
  },
  {
   "cell_type": "code",
   "execution_count": 25,
   "metadata": {},
   "outputs": [
    {
     "data": {
      "text/plain": [
       "['one,two;three', 'four', 'five six']"
      ]
     },
     "execution_count": 25,
     "metadata": {},
     "output_type": "execute_result"
    }
   ],
   "source": [
    "ssss.split(\".\")"
   ]
  },
  {
   "cell_type": "code",
   "execution_count": 109,
   "metadata": {},
   "outputs": [],
   "source": [
    "# re.split?"
   ]
  },
  {
   "cell_type": "code",
   "execution_count": 26,
   "metadata": {},
   "outputs": [
    {
     "data": {
      "text/plain": [
       "['one', 'two', 'three', 'four', 'five', 'six']"
      ]
     },
     "execution_count": 26,
     "metadata": {},
     "output_type": "execute_result"
    }
   ],
   "source": [
    "re.split(\"[,;. ]\",ssss)"
   ]
  },
  {
   "cell_type": "markdown",
   "metadata": {},
   "source": [
    "В модуле `re` не поддерживаются классы символов внутри квадратных скобок и нужно писать явные списки и диапазоны символов или пользоваться Perl-Compatible-RE "
   ]
  },
  {
   "cell_type": "code",
   "execution_count": 112,
   "metadata": {},
   "outputs": [
    {
     "data": {
      "text/plain": [
       "['one,two;three.four.five six']"
      ]
     },
     "execution_count": 112,
     "metadata": {},
     "output_type": "execute_result"
    }
   ],
   "source": [
    "re.split(\"[[:punct:][:blank:]]\",ssss) # строка не разбилась на части"
   ]
  },
  {
   "cell_type": "code",
   "execution_count": 27,
   "metadata": {},
   "outputs": [
    {
     "data": {
      "text/plain": [
       "['one', 'two', 'three', 'four', 'five', 'six']"
      ]
     },
     "execution_count": 27,
     "metadata": {},
     "output_type": "execute_result"
    }
   ],
   "source": [
    "re.split(r\"\\W\",ssss) # делим по символам, которые не символы слова"
   ]
  },
  {
   "cell_type": "markdown",
   "metadata": {},
   "source": [
    "## Отступление от темы RE про строковые литералы\n",
    "\n",
    "строковые константы с тройными кавычками/апострофами могут содержать **многострочный текст**\n",
    "\n",
    "\n",
    "```python\n",
    "'''многострочный \n",
    "текст'''\n",
    "\n",
    "\"\"\" многострочный \n",
    "текст\"\"\"\n",
    "```\n",
    "\n",
    "В обычных строках многие сочетания (escape-последовательности) типа \\n, \\t интепретируются как один специальный символ (new line, tab). И для того, чтобы избежать специальной интерпретации символа \"\\\" его либо удваивают \"\\\\\" либо используют сырые **raw** строковые константы. \n",
    "\n",
    "Сырые **raw** строковые константы: \n",
    "\n",
    "```python\n",
    "r\"C:\\Users\\Student\\Documents\"\n",
    "```\n",
    "\n",
    "Чтобы не получать трудно диагностируемых проблем при задании шаблонов, используйте сырые строковые литералы для задания регулярных выражений.\n",
    "\n",
    "```python\n",
    "re.search(r\"\\d+\\t\\d+, text )\n",
    "```\n",
    "\n",
    "Многострочные литералы:"
   ]
  },
  {
   "cell_type": "code",
   "execution_count": 93,
   "metadata": {},
   "outputs": [
    {
     "data": {
      "text/plain": [
       "\"'1st line\\nnd line\\n3rd line'\""
      ]
     },
     "execution_count": 93,
     "metadata": {},
     "output_type": "execute_result"
    }
   ],
   "source": [
    "mline=\"\"\"'1st line\n",
    "nd line\n",
    "3rd line'\"\"\"\n",
    "mline"
   ]
  },
  {
   "cell_type": "code",
   "execution_count": 95,
   "metadata": {},
   "outputs": [
    {
     "name": "stdout",
     "output_type": "stream",
     "text": [
      "'1st line\n",
      "nd line\n",
      "3rd line'\n"
     ]
    }
   ],
   "source": [
    "print(mline)"
   ]
  },
  {
   "cell_type": "markdown",
   "metadata": {},
   "source": [
    "Удвоение символа backslash `\\\\` чтобы изобразить один `\\`"
   ]
  },
  {
   "cell_type": "code",
   "execution_count": 98,
   "metadata": {},
   "outputs": [
    {
     "name": "stdout",
     "output_type": "stream",
     "text": [
      "\\n\n"
     ]
    }
   ],
   "source": [
    "print(\"\\\\n\") # 2 символа: \\ и n "
   ]
  },
  {
   "cell_type": "code",
   "execution_count": 19,
   "metadata": {},
   "outputs": [
    {
     "name": "stdout",
     "output_type": "stream",
     "text": [
      "C:\\users\\student\\documents\n"
     ]
    }
   ],
   "source": [
    "print(\"C:\\\\users\\\\student\\\\documents\")"
   ]
  },
  {
   "cell_type": "markdown",
   "metadata": {},
   "source": [
    "### raw stings \n",
    "\n",
    "Сырые строковые литералы `r\" \"` с префиксом `r`  полезны при написании путей файловой Windows и при написании регулярных выражений"
   ]
  },
  {
   "cell_type": "code",
   "execution_count": 27,
   "metadata": {},
   "outputs": [
    {
     "data": {
      "text/plain": [
       "'\\\\n'"
      ]
     },
     "execution_count": 27,
     "metadata": {},
     "output_type": "execute_result"
    }
   ],
   "source": [
    "r\"\\n\""
   ]
  },
  {
   "cell_type": "code",
   "execution_count": 28,
   "metadata": {},
   "outputs": [
    {
     "name": "stdout",
     "output_type": "stream",
     "text": [
      "\\n\n"
     ]
    }
   ],
   "source": [
    "print(r\"\\n\")"
   ]
  },
  {
   "cell_type": "code",
   "execution_count": 21,
   "metadata": {},
   "outputs": [
    {
     "name": "stdout",
     "output_type": "stream",
     "text": [
      "C:\\users\\student\\documents\n"
     ]
    }
   ],
   "source": [
    "print(r\"C:\\users\\student\\documents\")"
   ]
  },
  {
   "cell_type": "markdown",
   "metadata": {},
   "source": [
    "А так сработает функция `repr()` которая приводит распечатываемое выражение к синтаксису, уместному в программе:"
   ]
  },
  {
   "cell_type": "code",
   "execution_count": 22,
   "metadata": {},
   "outputs": [
    {
     "data": {
      "text/plain": [
       "'C:\\\\users\\\\student\\\\documents'"
      ]
     },
     "execution_count": 22,
     "metadata": {},
     "output_type": "execute_result"
    }
   ],
   "source": [
    "r\"C:\\users\\student\\documents\""
   ]
  },
  {
   "cell_type": "code",
   "execution_count": 115,
   "metadata": {
    "collapsed": true,
    "jupyter": {
     "outputs_hidden": true
    }
   },
   "outputs": [],
   "source": [
    "file=open(\"addresses.txt\")"
   ]
  },
  {
   "cell_type": "code",
   "execution_count": 116,
   "metadata": {},
   "outputs": [
    {
     "data": {
      "text/plain": [
       "_io.TextIOWrapper"
      ]
     },
     "execution_count": 116,
     "metadata": {},
     "output_type": "execute_result"
    }
   ],
   "source": [
    "type(file)"
   ]
  },
  {
   "cell_type": "code",
   "execution_count": 117,
   "metadata": {},
   "outputs": [
    {
     "name": "stdout",
     "output_type": "stream",
     "text": [
      "300 Broad St., New York, NY\n",
      "50 Cactus Freeway, Phoenix, AZ\n",
      "777 5th Ave, New York, NY\n",
      "100 Boylston St., Boston, MA\n",
      "50 Market Blvd, Oakland, CA\n",
      "505 Nord Freeway, Phoenix, AZ\n",
      "57 New St., Oakland, CA\n",
      "731 Fondren Drv, Houston, TX\n",
      "638 Voss St., Houston, TX\n",
      "291 Berry St., Bellaire, TX\n",
      "975 Fire Oak Ave, Humble, TX\n",
      "980 Dallas St., Houston, TX\n",
      "450 Stone Ave, Houston, TX\n"
     ]
    }
   ],
   "source": [
    "for line in file:\n",
    "    print(line,end=\"\") # там строки были и так с \"\\n\" на конце"
   ]
  },
  {
   "cell_type": "code",
   "execution_count": 118,
   "metadata": {
    "collapsed": true,
    "jupyter": {
     "outputs_hidden": true
    }
   },
   "outputs": [],
   "source": [
    "addr_list=file.readlines() # файл и так был дочитан до конца"
   ]
  },
  {
   "cell_type": "code",
   "execution_count": 119,
   "metadata": {},
   "outputs": [
    {
     "data": {
      "text/plain": [
       "[]"
      ]
     },
     "execution_count": 119,
     "metadata": {},
     "output_type": "execute_result"
    }
   ],
   "source": [
    "addr_list"
   ]
  },
  {
   "cell_type": "code",
   "execution_count": 120,
   "metadata": {
    "collapsed": true,
    "jupyter": {
     "outputs_hidden": true
    }
   },
   "outputs": [],
   "source": [
    "file.close()"
   ]
  },
  {
   "cell_type": "code",
   "execution_count": 125,
   "metadata": {},
   "outputs": [],
   "source": [
    "file=open(\"addresses.txt\")\n",
    "addr_list= [ s.rstrip() for s in file ]\n",
    "file.close()"
   ]
  },
  {
   "cell_type": "code",
   "execution_count": 126,
   "metadata": {},
   "outputs": [
    {
     "data": {
      "text/plain": [
       "['300 Broad St., New York, NY',\n",
       " '50 Cactus Freeway, Phoenix, AZ',\n",
       " '777 5th Ave, New York, NY',\n",
       " '100 Boylston St., Boston, MA',\n",
       " '50 Market Blvd, Oakland, CA',\n",
       " '505 Nord Freeway, Phoenix, AZ',\n",
       " '57 New St., Oakland, CA',\n",
       " '731 Fondren Drv, Houston, TX',\n",
       " '638 Voss St., Houston, TX',\n",
       " '291 Berry St., Bellaire, TX',\n",
       " '975 Fire Oak Ave, Humble, TX',\n",
       " '980 Dallas St., Houston, TX',\n",
       " '450 Stone Ave, Houston, TX']"
      ]
     },
     "execution_count": 126,
     "metadata": {},
     "output_type": "execute_result"
    }
   ],
   "source": [
    "addr_list"
   ]
  },
  {
   "cell_type": "code",
   "execution_count": 127,
   "metadata": {},
   "outputs": [],
   "source": [
    "address = addr_list[2]"
   ]
  },
  {
   "cell_type": "code",
   "execution_count": 128,
   "metadata": {},
   "outputs": [],
   "source": [
    "match_obj = re.match(r\"\\d+\",address)"
   ]
  },
  {
   "cell_type": "markdown",
   "metadata": {},
   "source": [
    "Объект сопоставления *match object*  содержит и границы индексов участка, с которым совпал шаблон (span)  и найденную строку (match)"
   ]
  },
  {
   "cell_type": "code",
   "execution_count": 129,
   "metadata": {},
   "outputs": [
    {
     "data": {
      "text/plain": [
       "<re.Match object; span=(0, 3), match='777'>"
      ]
     },
     "execution_count": 129,
     "metadata": {},
     "output_type": "execute_result"
    }
   ],
   "source": [
    "match_obj"
   ]
  },
  {
   "cell_type": "code",
   "execution_count": 130,
   "metadata": {},
   "outputs": [
    {
     "data": {
      "text/plain": [
       "'777'"
      ]
     },
     "execution_count": 130,
     "metadata": {},
     "output_type": "execute_result"
    }
   ],
   "source": [
    "address[0:3]"
   ]
  },
  {
   "cell_type": "code",
   "execution_count": 131,
   "metadata": {},
   "outputs": [
    {
     "data": {
      "text/plain": [
       "<re.Match object; span=(0, 3), match='777'>"
      ]
     },
     "execution_count": 131,
     "metadata": {},
     "output_type": "execute_result"
    }
   ],
   "source": [
    "match_obj"
   ]
  },
  {
   "cell_type": "markdown",
   "metadata": {},
   "source": [
    "match_obj.start()"
   ]
  },
  {
   "cell_type": "code",
   "execution_count": 132,
   "metadata": {},
   "outputs": [
    {
     "data": {
      "text/plain": [
       "3"
      ]
     },
     "execution_count": 132,
     "metadata": {},
     "output_type": "execute_result"
    }
   ],
   "source": [
    "match_obj.end()"
   ]
  },
  {
   "cell_type": "code",
   "execution_count": 133,
   "metadata": {},
   "outputs": [
    {
     "data": {
      "text/plain": [
       "'777'"
      ]
     },
     "execution_count": 133,
     "metadata": {},
     "output_type": "execute_result"
    }
   ],
   "source": [
    "address[match_obj.start():match_obj.end()]"
   ]
  },
  {
   "cell_type": "markdown",
   "metadata": {},
   "source": [
    "Проще получить найденную подстроку при помощи `match_obj.group(0)`"
   ]
  },
  {
   "cell_type": "code",
   "execution_count": 134,
   "metadata": {},
   "outputs": [
    {
     "data": {
      "text/plain": [
       "'777'"
      ]
     },
     "execution_count": 134,
     "metadata": {},
     "output_type": "execute_result"
    }
   ],
   "source": [
    "match_obj.group(0)"
   ]
  },
  {
   "cell_type": "markdown",
   "metadata": {},
   "source": [
    "теперь ищем не в начале строки"
   ]
  },
  {
   "cell_type": "code",
   "execution_count": 135,
   "metadata": {},
   "outputs": [],
   "source": [
    "mo2 = re.search(r\"\\s\\w+\",address)"
   ]
  },
  {
   "cell_type": "code",
   "execution_count": 136,
   "metadata": {},
   "outputs": [
    {
     "data": {
      "text/plain": [
       "' 5th'"
      ]
     },
     "execution_count": 136,
     "metadata": {},
     "output_type": "execute_result"
    }
   ],
   "source": [
    "mo2.group(0)"
   ]
  },
  {
   "cell_type": "raw",
   "metadata": {},
   "source": [
    "## Группы \n",
    "\n",
    "Группы позволяют внутри шаблона выделить одну или несколько интересующих нас частей, соответствующих части шаблона, окруженной круглыми скобками. То есть после того, как шаблон успешно \"ляжет\" на соответствующую подстроку из нее будет выделена часть, сопоставившаяся с шаблоном в скобках.\n",
    "\n",
    "Допустим в строке `'975 Fire Oak, Humble, TX\\n'` мы хотим выделить номер дома, улицу, город и штат"
   ]
  },
  {
   "cell_type": "code",
   "execution_count": 28,
   "metadata": {},
   "outputs": [],
   "source": [
    "mo=re.match(r\"(\\d+) (.*?), (.*?), (\\w{2})$\", '975 Fire Oak, Humble, TX' )"
   ]
  },
  {
   "cell_type": "code",
   "execution_count": 29,
   "metadata": {},
   "outputs": [
    {
     "data": {
      "text/plain": [
       "'975 Fire Oak, Humble, TX'"
      ]
     },
     "execution_count": 29,
     "metadata": {},
     "output_type": "execute_result"
    }
   ],
   "source": [
    "mo.group(0) # весь шаблон соответсвует группе 0 "
   ]
  },
  {
   "cell_type": "code",
   "execution_count": 30,
   "metadata": {},
   "outputs": [
    {
     "data": {
      "text/plain": [
       "['975', 'Fire Oak', 'Humble', 'TX']"
      ]
     },
     "execution_count": 30,
     "metadata": {},
     "output_type": "execute_result"
    }
   ],
   "source": [
    "[mo.group(1), mo.group(2), mo.group(3), mo.group(4)]"
   ]
  },
  {
   "cell_type": "code",
   "execution_count": 31,
   "metadata": {},
   "outputs": [
    {
     "data": {
      "text/plain": [
       "('975', 'Fire Oak', 'Humble', 'TX')"
      ]
     },
     "execution_count": 31,
     "metadata": {},
     "output_type": "execute_result"
    }
   ],
   "source": [
    "mo.groups()"
   ]
  },
  {
   "cell_type": "markdown",
   "metadata": {},
   "source": [
    "## Нежадные шаблоны\n",
    "\n",
    "В предыдущем примере использованы *нежадные шаблоны*.  По умолчанию шаблоны типа `\".*,\"` жадные --- они сопоставляются с подстрокой максимальной длинны из всех подходящих для шаблона подстрок (до последней запятой). А варианты суффиксов повторения с вопросом `*?, +?, ??, {1,3}?` -- не жадные и сопостовляются с подстрокой минимальной длинны. `.*,` дойдет до первой запятой.  "
   ]
  },
  {
   "cell_type": "markdown",
   "metadata": {},
   "source": [
    "## Комментирование частей RE\n",
    "\n",
    "Дополнительный параметр flag со значением `re.X` или  `re.VERBOSE` позволяет добавлять в шаблон игнорируемые  пробелы, переходы на новую строку и комментарии со знаком # для того чтобы сделать сложные шаблоны понятнее. Предварённые backslash \"\\\\\" пробельные символы не игнорируются."
   ]
  },
  {
   "cell_type": "code",
   "execution_count": 46,
   "metadata": {},
   "outputs": [],
   "source": [
    "mo=re.match(r\"\"\"\n",
    "            (\\d+)\\  # group(1): номер дома; цифры до первого пробела\n",
    "            (.*?),\\  # group(2): Название улицы до 1й запятой. Нежадный шаблон.\n",
    "            (.*?),\\  # group(3): город\n",
    "            ([A-Z]{2})$ # group(4): перед концом строки штат, записанный 2мя заглавными буквами\"\"\", \n",
    "            '975 Fire Oak, Humble, TX', \n",
    "            re.VERBOSE )"
   ]
  },
  {
   "cell_type": "code",
   "execution_count": 142,
   "metadata": {},
   "outputs": [
    {
     "data": {
      "text/plain": [
       "'Humble'"
      ]
     },
     "execution_count": 142,
     "metadata": {},
     "output_type": "execute_result"
    }
   ],
   "source": [
    "mo.group(3)"
   ]
  },
  {
   "cell_type": "markdown",
   "metadata": {},
   "source": [
    "## Именнованные группы\n",
    "\n",
    "```\n",
    "(?P<имя_группы>шаблон)\n",
    "```"
   ]
  },
  {
   "cell_type": "code",
   "execution_count": 82,
   "metadata": {},
   "outputs": [],
   "source": [
    "mo=re.match(r\"\"\"\n",
    "            (?P<дом>\\d+)\\  # group(\"дом\"): номер дома; цифры до первого пробела\n",
    "            (?P<улица>.*?),\\  # group(\"улица\"): Название улицы после номера дома и до 1й запятой. Нежадный шаблон.\n",
    "            (?P<город>.*?),\\  # group(\"город\"): город\n",
    "            (?P<штат>[A-Z]{2})$ # group(\"штат\"): перед концом строки штат, записанный 2мя заглавными буквами\"\"\", \n",
    "            '975 Fire Oak, Humble, TX', \n",
    "            re.X )"
   ]
  },
  {
   "cell_type": "code",
   "execution_count": 83,
   "metadata": {},
   "outputs": [
    {
     "data": {
      "text/plain": [
       "'Humble'"
      ]
     },
     "execution_count": 83,
     "metadata": {},
     "output_type": "execute_result"
    }
   ],
   "source": [
    "mo.group(\"город\")"
   ]
  },
  {
   "cell_type": "code",
   "execution_count": 145,
   "metadata": {},
   "outputs": [
    {
     "data": {
      "text/plain": [
       "'975'"
      ]
     },
     "execution_count": 145,
     "metadata": {},
     "output_type": "execute_result"
    }
   ],
   "source": [
    "mo[1] # Группы 0 и 1-4 могут быть извлечены из match-object через индексы 0 и 1..4"
   ]
  },
  {
   "cell_type": "code",
   "execution_count": 34,
   "metadata": {},
   "outputs": [
    {
     "data": {
      "text/plain": [
       "{'дом': '975', 'улица': 'Fire Oak', 'город': 'Humble', 'штат': 'TX'}"
      ]
     },
     "execution_count": 34,
     "metadata": {},
     "output_type": "execute_result"
    }
   ],
   "source": [
    "mo.groupdict()"
   ]
  },
  {
   "cell_type": "code",
   "execution_count": 147,
   "metadata": {},
   "outputs": [
    {
     "data": {
      "text/plain": [
       "'Fire Oak'"
      ]
     },
     "execution_count": 147,
     "metadata": {},
     "output_type": "execute_result"
    }
   ],
   "source": [
    "mo[\"улица\"]"
   ]
  },
  {
   "cell_type": "markdown",
   "metadata": {},
   "source": [
    "* * *\n",
    "\n",
    "\n",
    "# Упражнения к части 2"
   ]
  },
  {
   "cell_type": "markdown",
   "metadata": {},
   "source": [
    "## Упражнение 1\n",
    "\n",
    "Выдайте список имен, описанных в модуле  re, в которых есть слово loc. Установите дополнительный     параметр `flag` чтобы регистр символов при сопоставлении игнорировать "
   ]
  },
  {
   "cell_type": "markdown",
   "metadata": {},
   "source": [
    "предполагаемый  результат:\n",
    "```\n",
    "['LOCALE', '_locale']\n",
    "```"
   ]
  },
  {
   "cell_type": "code",
   "execution_count": 148,
   "metadata": {},
   "outputs": [
    {
     "data": {
      "text/plain": [
       "['LOCALE', '_locale']"
      ]
     },
     "execution_count": 148,
     "metadata": {},
     "output_type": "execute_result"
    }
   ],
   "source": [
    "[ s for s in  dir(re) if re.search(\"loc\",s,re.I)]"
   ]
  },
  {
   "cell_type": "markdown",
   "metadata": {},
   "source": [
    "## Упражнение 2 \n",
    "Переменной `addr_file_fragment` присвоен текст с  адресами email и баллами студентов"
   ]
  },
  {
   "cell_type": "code",
   "execution_count": 149,
   "metadata": {
    "collapsed": true,
    "jupyter": {
     "outputs_hidden": true
    }
   },
   "outputs": [],
   "source": [
    "addr_file_fragment = \"\"\"full_email;score\n",
    "Sara Evans <sarae428@yahoo.com>;97\n",
    "Sara Parks <smparks22@yahoo.com>;116\n",
    "Sara Stone <sarastone@walsh.edu>;60\n",
    "Sarah Barr <sarahl.barr@gmail.com>;109\n",
    "Sarah Boron <boron120@yahoo@com>;83\n",
    "Sarah Buell <Buellsarahc@yahoo.com>;79\n",
    "Sarah Lucas <sarah@buffingtonagency.com>;64\n",
    "Sarah Shafer <wall_eye49@yahoo.com>;71\n",
    "Sarah Tombin <jess_192001@yahoo.com>;74\n",
    "Scott Archer <dscottarch@yahoo.com>;33\n",
    "Sean Shirley <sean.shirley@emerson.com>;109\n",
    "Shanda Hudson <semhudson@gmail.com>;65\n",
    "Shannon West <shananagines@yahoo.com>;120\n",
    "Shari Turrin <shari2573@yahoo.com>;77\n",
    "\"\"\""
   ]
  },
  {
   "cell_type": "markdown",
   "metadata": {},
   "source": [
    "Выведите пронумерованные строки, где в почтоовм адресе ошибка ( 2 знака @ ) "
   ]
  },
  {
   "cell_type": "markdown",
   "metadata": {},
   "source": [
    "Решение:\n"
   ]
  },
  {
   "cell_type": "markdown",
   "metadata": {},
   "source": [
    "преполагаемый результат:\n",
    "\n",
    "\n",
    "```\n",
    "6:\tSarah Boron <boron120@yahoo@com>;83\n",
    "```"
   ]
  },
  {
   "cell_type": "code",
   "execution_count": 150,
   "metadata": {},
   "outputs": [
    {
     "name": "stdout",
     "output_type": "stream",
     "text": [
      "6:\tSarah Boron <boron120@yahoo@com>;83\n"
     ]
    }
   ],
   "source": [
    "nline=1\n",
    "for s in addr_file_fragment.split(\"\\n\"):\n",
    "    if  re.search(r\"@.*@\",s):\n",
    "        print(\"{}:\\t{}\".format(nline,s))\n",
    "    nline+=1"
   ]
  },
  {
   "cell_type": "markdown",
   "metadata": {},
   "source": [
    "* * *\n",
    "\n",
    "## Упражнение 3\n",
    "\n",
    "Переменной `addr_file_fragment` из упражения 2 присвоен текст с  адресами email и баллами студентов.\n",
    "\n",
    "сделайте шаблон, делящий строку исходных данных на такие именнованные группы:\n",
    "\n",
    "|  описание шаблона         | имя группы |\n",
    "|:--------------------------|------------------------------------:|\n",
    "| цепочка любых символов после которой пробел | fname |  \n",
    "| цепочка непробелов после которой пробел | lname |\n",
    "| цепочка любых символов внутри знаков < и > | email |\n",
    "| цепочка цифр поле символа ; | score |\n",
    "                  \n",
    "\n",
    "Выведите эту информацию в таком format'е  : \n",
    "```python\n",
    "\"First name: {fname:>9} | Last name:{lname:>9} | email:{email:>27}\" \n",
    "```\n",
    "\n",
    "а для строк исходных данных, не подходящих под шаблон, чтобы выдавалось 79 знаков \"-\"\n",
    "и получилась такая таблица:\n",
    "\n",
    "```\n",
    "-------------------------------------------------------------------------------\n",
    "First name:      Sara | Last name:    Evans | email:         sarae428@yahoo.com\n",
    "First name:      Sara | Last name:    Parks | email:        smparks22@yahoo.com\n",
    "First name:      Sara | Last name:    Stone | email:        sarastone@walsh.edu\n",
    "First name:     Sarah | Last name:     Barr | email:      sarahl.barr@gmail.com\n",
    "First name:     Sarah | Last name:    Boron | email:         boron120@yahoo@com\n",
    "First name:     Sarah | Last name:    Buell | email:      Buellsarahc@yahoo.com\n",
    "First name:     Sarah | Last name:    Lucas | email: sarah@buffingtonagency.com\n",
    "First name:     Sarah | Last name:   Shafer | email:       wall_eye49@yahoo.com\n",
    "First name:     Sarah | Last name:   Tombin | email:      jess_192001@yahoo.com\n",
    "First name:     Scott | Last name:   Archer | email:       dscottarch@yahoo.com\n",
    "First name:      Sean | Last name:  Shirley | email:   sean.shirley@emerson.com\n",
    "First name:    Shanda | Last name:   Hudson | email:        semhudson@gmail.com\n",
    "First name:   Shannon | Last name:     West | email:     shananagines@yahoo.com\n",
    "First name:     Shari | Last name:   Turrin | email:        shari2573@yahoo.com\n",
    "-------------------------------------------------------------------------------\n",
    "```"
   ]
  },
  {
   "cell_type": "markdown",
   "metadata": {},
   "source": [
    "## Упражение 4\n",
    "\n",
    "Напишите вызов функции sub() чтобы оно выдавала строку \"Гав! Гав Гав!\" Предварительно заменив все вхождения строки \"Гав\" на \"Мяу\""
   ]
  },
  {
   "cell_type": "markdown",
   "metadata": {},
   "source": [
    "предполагаемый результат\n",
    "\n",
    "'Мяу! Мяу Мяу!'"
   ]
  },
  {
   "cell_type": "code",
   "execution_count": 151,
   "metadata": {
    "scrolled": true
   },
   "outputs": [
    {
     "data": {
      "text/plain": [
       "'Мяу! Мяу Мяу!'"
      ]
     },
     "execution_count": 151,
     "metadata": {},
     "output_type": "execute_result"
    }
   ],
   "source": [
    "re.sub(\"Гав\", \"Мяу\", \"Гав! Гав Гав!\")"
   ]
  },
  {
   "cell_type": "markdown",
   "metadata": {},
   "source": [
    "* * * \n",
    "\n",
    "## Упражнение 5\n",
    "\n",
    "В файле `bad_bad_addresses.dos.csv` 1177 строк.  \n",
    "\n",
    "путь к файлу `\"https://github.com/bivni/tidy_demo/raw/master/data/bad_addresses.dos.csv\"`\n",
    "\n",
    "В первой строке заголовок с  названиями столбцов:\n",
    "```\n",
    "full_email;score\n",
    "Sara Evans <sarae428@yahoo.com>;97\n",
    "Sara Parks <smparks22@yahoo.com>;116\n",
    "Sara Stone <sarastone@walsh.edu>;60\n",
    "Sarah Barr <sarahl.barr@gmail.com>;109\n",
    "Sarah Boron <boron120@yahoo@com>;83\n",
    "Sarah Buell <Buellsarahc@yahoo.com>;79\n",
    "Sarah Lucas <sarah@buffingtonagency.com>;64\n",
    "Sarah Shafer <wall_eye49@yahoo.com>;71\n",
    "Sarah Tombin <jess_192001@yahoo.com>;74\n",
    "Scott Archer <dscottarch@yahoo.com>;33\n",
    "Sean Shirley <sean.shirley@emerson.com>;109\n",
    "Shanda Hudson <semhudson@gmail.com>;65\n",
    "Shannon West <shananagines@yahoo.com>;120\n",
    "Shari Turrin <shari2573@yahoo.com>;77\n",
    "```\n",
    "\n",
    "Найдите в Internet готовый шаблон для корректных email адресов  и найдите 2 строки с некоректными email. \n",
    "\n"
   ]
  },
  {
   "cell_type": "code",
   "execution_count": 157,
   "metadata": {},
   "outputs": [
    {
     "name": "stdout",
     "output_type": "stream",
     "text": [
      "-------------------------------------------------------------------------------\n",
      "First name:      Sara | Last name:    Evans | email:         sarae428@yahoo.com\n",
      "First name:      Sara | Last name:    Parks | email:        smparks22@yahoo.com\n",
      "First name:      Sara | Last name:    Stone | email:        sarastone@walsh.edu\n",
      "First name:     Sarah | Last name:     Barr | email:      sarahl.barr@gmail.com\n",
      "First name:     Sarah | Last name:    Boron | email:         boron120@yahoo@com\n",
      "First name:     Sarah | Last name:    Buell | email:      Buellsarahc@yahoo.com\n",
      "First name:     Sarah | Last name:    Lucas | email: sarah@buffingtonagency.com\n",
      "First name:     Sarah | Last name:   Shafer | email:       wall_eye49@yahoo.com\n",
      "First name:     Sarah | Last name:   Tombin | email:      jess_192001@yahoo.com\n",
      "First name:     Scott | Last name:   Archer | email:       dscottarch@yahoo.com\n",
      "First name:      Sean | Last name:  Shirley | email:   sean.shirley@emerson.com\n",
      "First name:    Shanda | Last name:   Hudson | email:        semhudson@gmail.com\n",
      "First name:   Shannon | Last name:     West | email:     shananagines@yahoo.com\n",
      "First name:     Shari | Last name:   Turrin | email:        shari2573@yahoo.com\n",
      "-------------------------------------------------------------------------------\n"
     ]
    }
   ],
   "source": [
    "pat=re.compile(r\"\"\"^(?P<fname>.*)\\      # group(fname)  \n",
    "                    (?P<lname>\\S+)\\     # group(lname)\n",
    "                    <(?P<email>.+)>; # group(email) \n",
    "                    (?P<score>\\d+)$ # group(score)\n",
    "                \"\"\", re.X)\n",
    "output_format_str = \"First name: {fname:>9} | Last name:{lname:>9} | email:{email:>27}\"\n",
    "\n",
    "for s in addr_file_fragment.split(\"\\n\"):\n",
    "    mo=pat.match(s)\n",
    "    if mo:\n",
    "        print(output_format_str.format(**mo.groupdict()))\n",
    "    else:\n",
    "        print(79*\"-\")"
   ]
  },
  {
   "cell_type": "markdown",
   "metadata": {},
   "source": [
    "## Упражнение 6\n",
    "\n",
    "импортируйте при помощи библиотеки pandas файл из предыдущего упражнения в DataFrame."
   ]
  },
  {
   "cell_type": "code",
   "execution_count": 35,
   "metadata": {},
   "outputs": [
    {
     "data": {
      "text/html": [
       "<div>\n",
       "<style scoped>\n",
       "    .dataframe tbody tr th:only-of-type {\n",
       "        vertical-align: middle;\n",
       "    }\n",
       "\n",
       "    .dataframe tbody tr th {\n",
       "        vertical-align: top;\n",
       "    }\n",
       "\n",
       "    .dataframe thead th {\n",
       "        text-align: right;\n",
       "    }\n",
       "</style>\n",
       "<table border=\"1\" class=\"dataframe\">\n",
       "  <thead>\n",
       "    <tr style=\"text-align: right;\">\n",
       "      <th></th>\n",
       "      <th>full_address</th>\n",
       "      <th>score</th>\n",
       "    </tr>\n",
       "  </thead>\n",
       "  <tbody>\n",
       "    <tr>\n",
       "      <th>1170</th>\n",
       "      <td>William A Tolley &lt;billthistoo@sbcglobal.com&gt;</td>\n",
       "      <td>25</td>\n",
       "    </tr>\n",
       "    <tr>\n",
       "      <th>1171</th>\n",
       "      <td>William Mossor &lt;bdm523@aol.com&gt;</td>\n",
       "      <td>51</td>\n",
       "    </tr>\n",
       "    <tr>\n",
       "      <th>1172</th>\n",
       "      <td>Yvette Green &lt;yvette.green@yahoo.com&gt;</td>\n",
       "      <td>99</td>\n",
       "    </tr>\n",
       "    <tr>\n",
       "      <th>1173</th>\n",
       "      <td>Yvette March &lt;yvettemarch@yahoo.com&gt;</td>\n",
       "      <td>55</td>\n",
       "    </tr>\n",
       "    <tr>\n",
       "      <th>1174</th>\n",
       "      <td>Yvette Marman &lt;66ymm99@sssnet.com&gt;</td>\n",
       "      <td>30</td>\n",
       "    </tr>\n",
       "    <tr>\n",
       "      <th>1175</th>\n",
       "      <td>Zandy Rote &lt;zrote@hotmail.com&gt;</td>\n",
       "      <td>109</td>\n",
       "    </tr>\n",
       "  </tbody>\n",
       "</table>\n",
       "</div>"
      ],
      "text/plain": [
       "                                      full_address  score\n",
       "1170  William A Tolley <billthistoo@sbcglobal.com>     25\n",
       "1171               William Mossor <bdm523@aol.com>     51\n",
       "1172         Yvette Green <yvette.green@yahoo.com>     99\n",
       "1173          Yvette March <yvettemarch@yahoo.com>     55\n",
       "1174            Yvette Marman <66ymm99@sssnet.com>     30\n",
       "1175                Zandy Rote <zrote@hotmail.com>    109"
      ]
     },
     "execution_count": 35,
     "metadata": {},
     "output_type": "execute_result"
    }
   ],
   "source": [
    "import numpy as np\n",
    "import pandas as pd\n",
    "df = pd.read_csv(\"https://github.com/bivni/tidy_demo/raw/master/data/bad_addresses.dos.csv\",sep=\";\"\n",
    "                 ,dtype={\"full_email\":str, \"score\":np.int32}\n",
    "                )\n",
    "df.tail(6)"
   ]
  },
  {
   "cell_type": "markdown",
   "metadata": {},
   "source": [
    "Используя метод `df.full_address.str.extract(шаблон_с_группами)` получите DataFrame `contacts` с отдельными столбцами  с названиями групп шаблона `fname`, `midinit`, `lname`, `email` куда распределите данные из стобца `full_email`. Выдайте последние 10 строк этого DataFrame `contacts`"
   ]
  },
  {
   "cell_type": "markdown",
   "metadata": {},
   "source": [
    "Предполагаемый ответ: \n",
    "\n",
    "| NN   | fname     | lname    | email                      |\n",
    "|------|-----------|----------|----------------------------|\n",
    "| 1166 | Walt      | Cerrato  | Wc32124@gmail.com          |\n",
    "| 1167 | Wendy     | Kelly    | danandwendy@mac.com        |\n",
    "| 1168 | Wendy     | Menegay  | wendymenegay18@hotmail.com |\n",
    "| 1169 | Wilda     | Phillips | sales@phillipsstamping.com |\n",
    "| 1170 | William A | Tolley   | billthistoo@sbcglobal.com  |\n",
    "| 1171 | William   | Mossor   | bdm523@aol.com             |\n",
    "| 1172 | Yvette    | Green    | yvette.green@yahoo.com     |\n",
    "| 1173 | Yvette    | March    | yvettemarch@yahoo.com      |\n",
    "| 1174 | Yvette    | Marman   | 66ymm99@sssnet.com         |\n",
    "| 1175 | Zandy     | Rote     | zrote@hotmail.com          |"
   ]
  },
  {
   "cell_type": "code",
   "execution_count": 36,
   "metadata": {},
   "outputs": [
    {
     "data": {
      "text/html": [
       "<div>\n",
       "<style scoped>\n",
       "    .dataframe tbody tr th:only-of-type {\n",
       "        vertical-align: middle;\n",
       "    }\n",
       "\n",
       "    .dataframe tbody tr th {\n",
       "        vertical-align: top;\n",
       "    }\n",
       "\n",
       "    .dataframe thead th {\n",
       "        text-align: right;\n",
       "    }\n",
       "</style>\n",
       "<table border=\"1\" class=\"dataframe\">\n",
       "  <thead>\n",
       "    <tr style=\"text-align: right;\">\n",
       "      <th></th>\n",
       "      <th>fname</th>\n",
       "      <th>lname</th>\n",
       "      <th>email</th>\n",
       "    </tr>\n",
       "  </thead>\n",
       "  <tbody>\n",
       "    <tr>\n",
       "      <th>1166</th>\n",
       "      <td>Walt</td>\n",
       "      <td>Cerrato</td>\n",
       "      <td>Wc32124@gmail.com</td>\n",
       "    </tr>\n",
       "    <tr>\n",
       "      <th>1167</th>\n",
       "      <td>Wendy</td>\n",
       "      <td>Kelly</td>\n",
       "      <td>danandwendy@mac.com</td>\n",
       "    </tr>\n",
       "    <tr>\n",
       "      <th>1168</th>\n",
       "      <td>Wendy</td>\n",
       "      <td>Menegay</td>\n",
       "      <td>wendymenegay18@hotmail.com</td>\n",
       "    </tr>\n",
       "    <tr>\n",
       "      <th>1169</th>\n",
       "      <td>Wilda</td>\n",
       "      <td>Phillips</td>\n",
       "      <td>sales@phillipsstamping.com</td>\n",
       "    </tr>\n",
       "    <tr>\n",
       "      <th>1170</th>\n",
       "      <td>William A</td>\n",
       "      <td>Tolley</td>\n",
       "      <td>billthistoo@sbcglobal.com</td>\n",
       "    </tr>\n",
       "    <tr>\n",
       "      <th>1171</th>\n",
       "      <td>William</td>\n",
       "      <td>Mossor</td>\n",
       "      <td>bdm523@aol.com</td>\n",
       "    </tr>\n",
       "    <tr>\n",
       "      <th>1172</th>\n",
       "      <td>Yvette</td>\n",
       "      <td>Green</td>\n",
       "      <td>yvette.green@yahoo.com</td>\n",
       "    </tr>\n",
       "    <tr>\n",
       "      <th>1173</th>\n",
       "      <td>Yvette</td>\n",
       "      <td>March</td>\n",
       "      <td>yvettemarch@yahoo.com</td>\n",
       "    </tr>\n",
       "    <tr>\n",
       "      <th>1174</th>\n",
       "      <td>Yvette</td>\n",
       "      <td>Marman</td>\n",
       "      <td>66ymm99@sssnet.com</td>\n",
       "    </tr>\n",
       "    <tr>\n",
       "      <th>1175</th>\n",
       "      <td>Zandy</td>\n",
       "      <td>Rote</td>\n",
       "      <td>zrote@hotmail.com</td>\n",
       "    </tr>\n",
       "  </tbody>\n",
       "</table>\n",
       "</div>"
      ],
      "text/plain": [
       "          fname     lname                       email\n",
       "1166       Walt   Cerrato           Wc32124@gmail.com\n",
       "1167      Wendy     Kelly         danandwendy@mac.com\n",
       "1168      Wendy   Menegay  wendymenegay18@hotmail.com\n",
       "1169      Wilda  Phillips  sales@phillipsstamping.com\n",
       "1170  William A    Tolley   billthistoo@sbcglobal.com\n",
       "1171    William    Mossor              bdm523@aol.com\n",
       "1172     Yvette     Green      yvette.green@yahoo.com\n",
       "1173     Yvette     March       yvettemarch@yahoo.com\n",
       "1174     Yvette    Marman          66ymm99@sssnet.com\n",
       "1175      Zandy      Rote           zrote@hotmail.com"
      ]
     },
     "execution_count": 36,
     "metadata": {},
     "output_type": "execute_result"
    }
   ],
   "source": [
    "mail_pattern=re.compile(\n",
    "               r\"\"\"^(?P<fname>.*)\\s     # group(fname)\n",
    "                    (?P<lname>\\S+)\\s   # group(lname)\n",
    "                    <(?P<email>.+)>$ # group(score)\n",
    "                \"\"\", re.X)\n",
    "\n",
    "contacts=df.full_address.str.extract(mail_pattern, expand=True)\n",
    "\n",
    "contacts.tail(10)"
   ]
  },
  {
   "cell_type": "code",
   "execution_count": null,
   "metadata": {},
   "outputs": [],
   "source": []
  },
  {
   "cell_type": "code",
   "execution_count": null,
   "metadata": {},
   "outputs": [],
   "source": []
  }
 ],
 "metadata": {
  "kernelspec": {
   "display_name": "Python 3 (ipykernel)",
   "language": "python",
   "name": "python3"
  },
  "language_info": {
   "codemirror_mode": {
    "name": "ipython",
    "version": 3
   },
   "file_extension": ".py",
   "mimetype": "text/x-python",
   "name": "python",
   "nbconvert_exporter": "python",
   "pygments_lexer": "ipython3",
   "version": "3.8.11"
  }
 },
 "nbformat": 4,
 "nbformat_minor": 4
}
